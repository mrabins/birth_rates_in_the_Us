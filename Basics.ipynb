{
 "cells": [
  {
   "cell_type": "code",
   "execution_count": 20,
   "metadata": {},
   "outputs": [
    {
     "data": {
      "text/plain": [
       "{'1': 5789166,\n",
       " '2': 6446196,\n",
       " '3': 6322855,\n",
       " '4': 6288429,\n",
       " '5': 6233657,\n",
       " '6': 4562111,\n",
       " '7': 4079723}"
      ]
     },
     "execution_count": 20,
     "metadata": {},
     "output_type": "execute_result"
    }
   ],
   "source": [
    "f = open(\"births.csv\", \"r\")\n",
    "the_data = f.read()\n",
    "# print(the_data)\n",
    "\n",
    "lines_list = the_data.split(\"\\n\")\n",
    "# print(lines_list)\n",
    "\n",
    "data_no_header = lines_list[1:len(lines_list)]\n",
    "days_counts = dict()\n",
    "\n",
    "for line in data_no_header:\n",
    "    split_line = line.split(\",\")\n",
    "    day_of_week = split_line[3]\n",
    "    num_births = int(split_line[4])\n",
    "    \n",
    "    if day_of_week in days_counts:\n",
    "        days_counts[day_of_week] = days_counts(day_of_week) + num_births\n",
    "    else:\n",
    "        days_counts[day_of_week] = num_births\n",
    "\n",
    "days_counts\n",
    "            \n",
    "        if day_of_week in days_counts:\n",
    "        days_counts[day_of_week] = days_counts[day_of_week] + num_births\n",
    "    else:\n",
    "        days_counts[day_of_week] = num_births\n",
    "\n",
    "days_counts\n",
    "\n"
   ]
  },
  {
   "cell_type": "code",
   "execution_count": null,
   "metadata": {},
   "outputs": [],
   "source": []
  }
 ],
 "metadata": {
  "anaconda-cloud": {},
  "kernelspec": {
   "display_name": "Python 3",
   "language": "python",
   "name": "python3"
  },
  "language_info": {
   "codemirror_mode": {
    "name": "ipython",
    "version": 3
   },
   "file_extension": ".py",
   "mimetype": "text/x-python",
   "name": "python",
   "nbconvert_exporter": "python",
   "pygments_lexer": "ipython3",
   "version": "3.6.4"
  }
 },
 "nbformat": 4,
 "nbformat_minor": 2
}
